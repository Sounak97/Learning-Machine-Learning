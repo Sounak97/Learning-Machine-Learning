{
 "cells": [
  {
   "cell_type": "markdown",
   "metadata": {},
   "source": [
    "# Uber Demand Gap Project\n",
    "\n",
    "## Notebook by `Arunava Chakraborty`"
   ]
  },
  {
   "cell_type": "markdown",
   "metadata": {},
   "source": [
    "### Introduction\n",
    "\n",
    "Uber found a business problem where there was a demand gap for cars from and to airports.\n",
    "\n",
    "In this notebook we are gonna use a dataset which focuses on just 4 days form the Uber Data WareHouse.\n",
    "\n",
    "Using this dataset, we are gonna try to reason out the possible causes of the problem.\n",
    "\n",
    "### Required libraries\n",
    "\n",
    "1) Numpy\n",
    "\n",
    "2) Pandas\n",
    "\n",
    "3) Matplotlib\n",
    "\n",
    "4) Seaborn"
   ]
  },
  {
   "cell_type": "markdown",
   "metadata": {},
   "source": [
    "### 1) Analysing the given data\n",
    "\n",
    "Let's start by analysing the given data. And let's look if there are any missing values or if any data can be derived from the existing data."
   ]
  },
  {
   "cell_type": "code",
   "execution_count": 1,
   "metadata": {},
   "outputs": [],
   "source": [
    "# Requried imports and functions\n",
    "import numpy as np\n",
    "import pandas as pd\n",
    "import matplotlib.pyplot as plt\n",
    "import seaborn as sns\n",
    "\n",
    "sns.set_style('whitegrid')\n",
    "\n",
    "# Functions\n",
    "def datevld(s):\n",
    "    # Dropping year as its consistent across the dataset\n",
    "    if s == 'NA': return s\n",
    "    s = ''.join(list(map(lambda x : '-' if x == '/' else x, s))[:-5])\n",
    "    return s\n",
    "\n",
    "def timevld(s):\n",
    "    if s == 'NA': return s\n",
    "    if len(s) <= 5:\n",
    "        #s = ':'.join(s.split(':')[:2])\n",
    "        s += ':00'\n",
    "    return s"
   ]
  },
  {
   "cell_type": "code",
   "execution_count": 2,
   "metadata": {},
   "outputs": [
    {
     "data": {
      "text/plain": [
       "['Request id',\n",
       " 'Pickup point',\n",
       " 'Driver id',\n",
       " 'Status',\n",
       " 'Request timestamp',\n",
       " 'Drop timestamp']"
      ]
     },
     "execution_count": 2,
     "metadata": {},
     "output_type": "execute_result"
    }
   ],
   "source": [
    "# Reading the data\n",
    "df = pd.read_csv('./Uber Request Data.csv')\n",
    "data_size = len(df)\n",
    "column_headers = list(df)\n",
    "\n",
    "column_headers"
   ]
  },
  {
   "cell_type": "markdown",
   "metadata": {},
   "source": [
    "`Request id` seems to be unique across the dataset and thus we will set it as the index of the dataset.\n",
    "\n",
    "But before, that we have to make sure that there are no duplicacies in the data in terms of the `Request id`.\n",
    "\n",
    "If so, we need to remove the duplicate rows."
   ]
  },
  {
   "cell_type": "code",
   "execution_count": 3,
   "metadata": {},
   "outputs": [
    {
     "data": {
      "text/plain": [
       "True"
      ]
     },
     "execution_count": 3,
     "metadata": {},
     "output_type": "execute_result"
    }
   ],
   "source": [
    "# Checking if all the requests are unique\n",
    "data_size == len(df['Request id'].value_counts(ascending=True))"
   ]
  },
  {
   "cell_type": "markdown",
   "metadata": {},
   "source": [
    "Thus, we can see that all `Request id`s are unique and thus can be set as the index."
   ]
  },
  {
   "cell_type": "code",
   "execution_count": 4,
   "metadata": {},
   "outputs": [],
   "source": [
    "# Setting index to `Request id`\n",
    "df = df.set_index('Request id')"
   ]
  },
  {
   "cell_type": "markdown",
   "metadata": {},
   "source": [
    "### 2) Cleaning the data\n",
    "\n",
    "Let's divide the column `Request timestamp` into `Request Date` and `Request Time` such that we can plot data based on the date and time."
   ]
  },
  {
   "cell_type": "code",
   "execution_count": 5,
   "metadata": {},
   "outputs": [],
   "source": [
    "# Dividing the 'Request timestamp' column into 'Request Date' and 'Request Time'\n",
    "df['Request timestamp'] = df['Request timestamp'].apply(lambda x : x.split())\n",
    "\n",
    "df['Request Date'] = df['Request timestamp'].apply(lambda x : x[0])\n",
    "df['Request Time'] = df['Request timestamp'].apply(lambda x : x[1])"
   ]
  },
  {
   "cell_type": "markdown",
   "metadata": {},
   "source": [
    "Let's divide the column `Drop timestamp` into `Drop` and `Drop Time` such that we can plot data based on the date and time."
   ]
  },
  {
   "cell_type": "code",
   "execution_count": 6,
   "metadata": {},
   "outputs": [],
   "source": [
    "# Dividing the 'Drop timestamp' column into 'Drop Date' and 'Drop Time'\n",
    "df['Drop timestamp'] = df['Drop timestamp'].apply(lambda x : x.split() if type(x) == str else ['NA', 'NA'])\n",
    "\n",
    "df['Drop Date'] = df['Drop timestamp'].apply(lambda x : x[0])\n",
    "df['Drop Time'] = df['Drop timestamp'].apply(lambda x : x[1])"
   ]
  },
  {
   "cell_type": "markdown",
   "metadata": {},
   "source": [
    "Let's now drop the `Request timestamp` and `Drop timestamp` columns as they are not needed"
   ]
  },
  {
   "cell_type": "code",
   "execution_count": 7,
   "metadata": {},
   "outputs": [],
   "source": [
    "# Dropping 'Request timestamp' and 'Drop timestamp'\n",
    "df = df.drop(['Request timestamp', 'Drop timestamp'], axis=1)"
   ]
  },
  {
   "cell_type": "markdown",
   "metadata": {},
   "source": [
    "Changing the date columns to just keep the day as month and year is consistent all along the dataset"
   ]
  },
  {
   "cell_type": "code",
   "execution_count": 8,
   "metadata": {},
   "outputs": [],
   "source": [
    "# Changing the dates to one specified format\n",
    "df['Request Date'] = df['Request Date'].apply(datevld)\n",
    "df['Drop Date'] = df['Drop Date'].apply(datevld)"
   ]
  },
  {
   "cell_type": "markdown",
   "metadata": {},
   "source": [
    "Changing the time columns to add the seconds part for ones which are missing"
   ]
  },
  {
   "cell_type": "code",
   "execution_count": 9,
   "metadata": {},
   "outputs": [],
   "source": [
    "# Changing the time to one specified format\n",
    "df['Request Time'] = df['Request Time'].apply(timevld)\n",
    "df['Drop Time'] = df['Drop Time'].apply(timevld)"
   ]
  },
  {
   "cell_type": "code",
   "execution_count": 10,
   "metadata": {},
   "outputs": [],
   "source": [
    "# Dropping the month as month is consistent across\n",
    "df['Request Date']  = df['Request Date'].apply(lambda x : x.split('-')[0])\n",
    "df['Drop Date']  = df['Drop Date'].apply(lambda x : x.split('-')[0] if x != 'NA' else x)"
   ]
  },
  {
   "cell_type": "code",
   "execution_count": 11,
   "metadata": {},
   "outputs": [],
   "source": [
    "# Changing the columns to numeric type\n",
    "df['Drop Date'] = pd.to_numeric(df['Drop Date'], errors=\"coerce\")\n",
    "df['Request Date'] = pd.to_numeric(df['Request Date'], errors=\"coerce\")"
   ]
  },
  {
   "cell_type": "code",
   "execution_count": 12,
   "metadata": {},
   "outputs": [],
   "source": [
    "# Changing required columns to time type\n",
    "df['Drop Time']    = pd.to_datetime(df['Drop Time'], format='%H:%M:%S', errors=\"coerce\").dt.time\n",
    "df['Request Time'] = pd.to_datetime(df['Request Time'], format='%H:%M:%S', errors=\"coerce\").dt.time"
   ]
  },
  {
   "cell_type": "code",
   "execution_count": 13,
   "metadata": {},
   "outputs": [
    {
     "data": {
      "text/html": [
       "<div>\n",
       "<style scoped>\n",
       "    .dataframe tbody tr th:only-of-type {\n",
       "        vertical-align: middle;\n",
       "    }\n",
       "\n",
       "    .dataframe tbody tr th {\n",
       "        vertical-align: top;\n",
       "    }\n",
       "\n",
       "    .dataframe thead th {\n",
       "        text-align: right;\n",
       "    }\n",
       "</style>\n",
       "<table border=\"1\" class=\"dataframe\">\n",
       "  <thead>\n",
       "    <tr style=\"text-align: right;\">\n",
       "      <th></th>\n",
       "      <th>Pickup point</th>\n",
       "      <th>Driver id</th>\n",
       "      <th>Status</th>\n",
       "      <th>Request Date</th>\n",
       "      <th>Request Time</th>\n",
       "      <th>Drop Date</th>\n",
       "      <th>Drop Time</th>\n",
       "    </tr>\n",
       "    <tr>\n",
       "      <th>Request id</th>\n",
       "      <th></th>\n",
       "      <th></th>\n",
       "      <th></th>\n",
       "      <th></th>\n",
       "      <th></th>\n",
       "      <th></th>\n",
       "      <th></th>\n",
       "    </tr>\n",
       "  </thead>\n",
       "  <tbody>\n",
       "    <tr>\n",
       "      <th>6304</th>\n",
       "      <td>City</td>\n",
       "      <td>299.0</td>\n",
       "      <td>Trip Completed</td>\n",
       "      <td>15</td>\n",
       "      <td>18:31:31</td>\n",
       "      <td>15.0</td>\n",
       "      <td>19:19:30</td>\n",
       "    </tr>\n",
       "    <tr>\n",
       "      <th>1315</th>\n",
       "      <td>Airport</td>\n",
       "      <td>300.0</td>\n",
       "      <td>Trip Completed</td>\n",
       "      <td>11</td>\n",
       "      <td>22:54:00</td>\n",
       "      <td>11.0</td>\n",
       "      <td>23:35:00</td>\n",
       "    </tr>\n",
       "    <tr>\n",
       "      <th>2924</th>\n",
       "      <td>City</td>\n",
       "      <td>300.0</td>\n",
       "      <td>Trip Completed</td>\n",
       "      <td>13</td>\n",
       "      <td>06:31:22</td>\n",
       "      <td>13.0</td>\n",
       "      <td>07:20:52</td>\n",
       "    </tr>\n",
       "    <tr>\n",
       "      <th>3324</th>\n",
       "      <td>Airport</td>\n",
       "      <td>300.0</td>\n",
       "      <td>Trip Completed</td>\n",
       "      <td>13</td>\n",
       "      <td>12:33:21</td>\n",
       "      <td>13.0</td>\n",
       "      <td>13:16:03</td>\n",
       "    </tr>\n",
       "    <tr>\n",
       "      <th>3935</th>\n",
       "      <td>Airport</td>\n",
       "      <td>300.0</td>\n",
       "      <td>Trip Completed</td>\n",
       "      <td>13</td>\n",
       "      <td>22:26:08</td>\n",
       "      <td>13.0</td>\n",
       "      <td>23:43:13</td>\n",
       "    </tr>\n",
       "    <tr>\n",
       "      <th>5844</th>\n",
       "      <td>Airport</td>\n",
       "      <td>300.0</td>\n",
       "      <td>Trip Completed</td>\n",
       "      <td>15</td>\n",
       "      <td>09:07:09</td>\n",
       "      <td>15.0</td>\n",
       "      <td>09:56:07</td>\n",
       "    </tr>\n",
       "    <tr>\n",
       "      <th>2905</th>\n",
       "      <td>City</td>\n",
       "      <td>1.0</td>\n",
       "      <td>Cancelled</td>\n",
       "      <td>13</td>\n",
       "      <td>06:08:41</td>\n",
       "      <td>NaN</td>\n",
       "      <td>NaN</td>\n",
       "    </tr>\n",
       "    <tr>\n",
       "      <th>4805</th>\n",
       "      <td>City</td>\n",
       "      <td>1.0</td>\n",
       "      <td>Cancelled</td>\n",
       "      <td>14</td>\n",
       "      <td>17:07:58</td>\n",
       "      <td>NaN</td>\n",
       "      <td>NaN</td>\n",
       "    </tr>\n",
       "    <tr>\n",
       "      <th>5202</th>\n",
       "      <td>Airport</td>\n",
       "      <td>1.0</td>\n",
       "      <td>Cancelled</td>\n",
       "      <td>14</td>\n",
       "      <td>20:51:37</td>\n",
       "      <td>NaN</td>\n",
       "      <td>NaN</td>\n",
       "    </tr>\n",
       "    <tr>\n",
       "      <th>5927</th>\n",
       "      <td>City</td>\n",
       "      <td>1.0</td>\n",
       "      <td>Cancelled</td>\n",
       "      <td>15</td>\n",
       "      <td>10:12:40</td>\n",
       "      <td>NaN</td>\n",
       "      <td>NaN</td>\n",
       "    </tr>\n",
       "  </tbody>\n",
       "</table>\n",
       "</div>"
      ],
      "text/plain": [
       "           Pickup point  Driver id          Status  Request Date Request Time  \\\n",
       "Request id                                                                      \n",
       "6304               City      299.0  Trip Completed            15     18:31:31   \n",
       "1315            Airport      300.0  Trip Completed            11     22:54:00   \n",
       "2924               City      300.0  Trip Completed            13     06:31:22   \n",
       "3324            Airport      300.0  Trip Completed            13     12:33:21   \n",
       "3935            Airport      300.0  Trip Completed            13     22:26:08   \n",
       "5844            Airport      300.0  Trip Completed            15     09:07:09   \n",
       "2905               City        1.0       Cancelled            13     06:08:41   \n",
       "4805               City        1.0       Cancelled            14     17:07:58   \n",
       "5202            Airport        1.0       Cancelled            14     20:51:37   \n",
       "5927               City        1.0       Cancelled            15     10:12:40   \n",
       "\n",
       "            Drop Date Drop Time  \n",
       "Request id                       \n",
       "6304             15.0  19:19:30  \n",
       "1315             11.0  23:35:00  \n",
       "2924             13.0  07:20:52  \n",
       "3324             13.0  13:16:03  \n",
       "3935             13.0  23:43:13  \n",
       "5844             15.0  09:56:07  \n",
       "2905              NaN       NaN  \n",
       "4805              NaN       NaN  \n",
       "5202              NaN       NaN  \n",
       "5927              NaN       NaN  "
      ]
     },
     "execution_count": 13,
     "metadata": {},
     "output_type": "execute_result"
    }
   ],
   "source": [
    "# Quick Peek\n",
    "df.iloc[2825:2835]"
   ]
  },
  {
   "cell_type": "markdown",
   "metadata": {},
   "source": [
    "### 4) Analysing the data\n",
    "\n",
    "Let's get a quick look at how much of the requests are `Completed`, `Cancelled` and `No Cars Available`"
   ]
  },
  {
   "cell_type": "code",
   "execution_count": 14,
   "metadata": {},
   "outputs": [
    {
     "data": {
      "text/plain": [
       "Trip Completed       2831\n",
       "No Cars Available    2650\n",
       "Cancelled            1264\n",
       "Name: Status, dtype: int64"
      ]
     },
     "execution_count": 14,
     "metadata": {},
     "output_type": "execute_result"
    }
   ],
   "source": [
    "# Descriptive Statistics Summary of 'Status' of Requests\n",
    "df['Status'].value_counts()"
   ]
  },
  {
   "cell_type": "markdown",
   "metadata": {},
   "source": [
    "Quick look says that requests that result in `No cars available` are almost double the number of `trips completed`\n",
    "\n",
    "Lets take a look at the status statistically plotting it across all days."
   ]
  },
  {
   "cell_type": "code",
   "execution_count": 15,
   "metadata": {},
   "outputs": [
    {
     "data": {
      "image/png": "[encoded data removed]",
      "text/plain": [
       "<matplotlib.figure.Figure at 0x7fbb3db4bdd8>"
      ]
     },
     "metadata": {},
     "output_type": "display_data"
    }
   ],
   "source": [
    "# Combining across all days\n",
    "sns.countplot(df['Status'])\n",
    "plt.show()"
   ]
  },
  {
   "cell_type": "markdown",
   "metadata": {},
   "source": [
    "Plotting the status of requests for each day to analyze if the problem is  true only for certain days."
   ]
  },
  {
   "cell_type": "code",
   "execution_count": 16,
   "metadata": {},
   "outputs": [
    {
     "data": {
      "image/png": "[encoded data removed]",
      "text/plain": [
       "<matplotlib.figure.Figure at 0x7fbb3db4be10>"
      ]
     },
     "metadata": {},
     "output_type": "display_data"
    }
   ],
   "source": [
    "# Analysing each day trends\n",
    "sns.countplot(x='Request Date', hue='Status', data=df)\n",
    "plt.show()"
   ]
  },
  {
   "cell_type": "markdown",
   "metadata": {},
   "source": [
    "Taking a look at the above graph it seems that problem remains the same across all days.\n",
    "\n",
    "Thus, going in more granularity, and looking at the time, in which the problems occur mostly by plotting a graph of the staus requests at particular time of the day."
   ]
  },
  {
   "cell_type": "code",
   "execution_count": 17,
   "metadata": {},
   "outputs": [
    {
     "data": {
      "image/png": "[encoded data removed]",
      "text/plain": [
       "<matplotlib.figure.Figure at 0x7fbb3d98f940>"
      ]
     },
     "metadata": {},
     "output_type": "display_data"
    }
   ],
   "source": [
    "# Plot to show :\n",
    "# 1) For Maximum trips cars are unavailable\n",
    "# 2) Very few Trips are completed\n",
    "# 3) 'No cars available' are during mostly during the night time\n",
    "# 4) 'Cancelled' maximum during office hours and, in general, day time when the rush is more\n",
    "df1 = df.sort_values(by=['Request Time'])\n",
    "sns.countplot(x='Request Time', hue='Status', data=df1)\n",
    "plt.show()"
   ]
  },
  {
   "cell_type": "markdown",
   "metadata": {},
   "source": [
    "Looking at the above plot we can sure say that most of the times cars are unavailable and many are cancelled.\n",
    "\n",
    "Unavaibility of cars seems to be the most during the night time. And cancelled requests are spread across with concentration during the day time when the rush is more (requests for cars are more)\n",
    "\n",
    "Let's create a plot to see if there is a relationship between the `Pickup point` and the `Status`"
   ]
  },
  {
   "cell_type": "code",
   "execution_count": 18,
   "metadata": {},
   "outputs": [
    {
     "data": {
      "image/png": "[encoded data removed]",
      "text/plain": [
       "<matplotlib.figure.Figure at 0x7fbb308447f0>"
      ]
     },
     "metadata": {},
     "output_type": "display_data"
    }
   ],
   "source": [
    "# Plot to show:\n",
    "# 1) Most trips are 'Cancelled' from City to Airport\n",
    "# 2) Unavaibility of cars is more seen at the Airport\n",
    "sns.countplot(x='Pickup point', hue='Status', data=df)\n",
    "plt.show()"
   ]
  },
  {
   "cell_type": "markdown",
   "metadata": {},
   "source": [
    "Well, it turns out there is a relationship.\n",
    "\n",
    "Drivers mostly cancel when the ride is from City to Airport\n",
    "\n",
    "And the unavaibility of cars are more at the Airports"
   ]
  },
  {
   "cell_type": "markdown",
   "metadata": {},
   "source": [
    "## Conclusion\n",
    "\n",
    "1) Hiring more cars for the night shift can almost double the success of the\n",
    "   business\n",
    "\n",
    "2) Seems that cars have to spend more fuel and time to go the airport. \n",
    "\n",
    "       a) And as a result of that, they are waiting at they airport for a customer as driving\n",
    "   \n",
    "       b) Back without a customer would cost double on the fuel.\n",
    "   \n",
    "       c) Due to uncertain landing times, cars have to wait for long.\n",
    "   \n",
    "       d) In which time, if they were not at airport they could have made a lot of money.\n",
    "   \n",
    "       e) This is why, most cars cancel trips from City -> Airport.\n",
    "\n",
    "   Thus, IMO, increasing the fare for trips to and from Airport can make a decrease\n",
    "   In the rate of the trip cancellations by the driver."
   ]
  }
 ],
 "metadata": {
  "kernelspec": {
   "display_name": "Python 3",
   "language": "python",
   "name": "python3"
  },
  "language_info": {
   "codemirror_mode": {
    "name": "ipython",
    "version": 3
   },
   "file_extension": ".py",
   "mimetype": "text/x-python",
   "name": "python",
   "nbconvert_exporter": "python",
   "pygments_lexer": "ipython3",
   "version": "3.6.3"
  }
 },
 "nbformat": 4,
 "nbformat_minor": 2
}
