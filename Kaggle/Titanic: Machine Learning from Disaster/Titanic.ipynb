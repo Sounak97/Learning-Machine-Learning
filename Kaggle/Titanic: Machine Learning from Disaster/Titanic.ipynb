{
 "cells": [
  {
   "cell_type": "markdown",
   "metadata": {},
   "source": [
    "# Titanic Dataset Notebook\n",
    "\n",
    "### Notebook by: [Arunava](https://github.com/iArunava)\n",
    "\n",
    "### Dataset: [Kaggle Titanic:Machine Learning from Disaster](https://www.kaggle.com/c/titanic/data)"
   ]
  },
  {
   "cell_type": "markdown",
   "metadata": {},
   "source": [
    "# Introduction\n",
    "\n",
    "The sinking of the RMS Titanic is one of the most infamous shipwrecks in history.  On April 15, 1912, during her maiden voyage, the Titanic sank after colliding with an iceberg, killing 1502 out of 2224 passengers and crew. This sensational tragedy shocked the international community and led to better safety regulations for ships.\n",
    "\n",
    "One of the reasons that the shipwreck led to such loss of life was that there were not enough lifeboats for the passengers and crew. Although there was some element of luck involved in surviving the sinking, some groups of people were more likely to survive than others, such as women, children, and the upper-class.\n",
    "\n",
    "In this challenge, we ask you to complete the analysis of what sorts of people were likely to survive. In particular, we ask you to apply the tools of machine learning to predict which passengers survived the tragedy.\n",
    "\n",
    "In this notebook, I perform an analysis on the Titanic Dataset. The link to the dataset can be found at the start of the notebook."
   ]
  },
  {
   "cell_type": "markdown",
   "metadata": {},
   "source": [
    "# Required Libraries\n",
    "\n",
    "(1) Numpy \n",
    "(2) Matplotlib \n",
    "(3) Pandas \n",
    "(4) scikit-learn"
   ]
  },
  {
   "cell_type": "markdown",
   "metadata": {},
   "source": [
    "# Step 1: Let's get the Data and Feed the human mind"
   ]
  },
  {
   "cell_type": "code",
   "execution_count": 2,
   "metadata": {},
   "outputs": [],
   "source": [
    "# Importing the necessary modules\n",
    "import numpy as np\n",
    "import pandas as pd\n",
    "import matplotlib.pyplot as plt\n",
    "import seaborn as sns\n",
    "import math"
   ]
  },
  {
   "cell_type": "markdown",
   "metadata": {},
   "source": [
    "Okay, so we imported the necesary modules now lets get the dataset and peek into the head of the data :)"
   ]
  },
  {
   "cell_type": "code",
   "execution_count": 3,
   "metadata": {},
   "outputs": [
    {
     "data": {
      "text/html": [
       "<div>\n",
       "<style scoped>\n",
       "    .dataframe tbody tr th:only-of-type {\n",
       "        vertical-align: middle;\n",
       "    }\n",
       "\n",
       "    .dataframe tbody tr th {\n",
       "        vertical-align: top;\n",
       "    }\n",
       "\n",
       "    .dataframe thead th {\n",
       "        text-align: right;\n",
       "    }\n",
       "</style>\n",
       "<table border=\"1\" class=\"dataframe\">\n",
       "  <thead>\n",
       "    <tr style=\"text-align: right;\">\n",
       "      <th></th>\n",
       "      <th>PassengerId</th>\n",
       "      <th>Survived</th>\n",
       "      <th>Pclass</th>\n",
       "      <th>Name</th>\n",
       "      <th>Sex</th>\n",
       "      <th>Age</th>\n",
       "      <th>SibSp</th>\n",
       "      <th>Parch</th>\n",
       "      <th>Ticket</th>\n",
       "      <th>Fare</th>\n",
       "      <th>Cabin</th>\n",
       "      <th>Embarked</th>\n",
       "    </tr>\n",
       "  </thead>\n",
       "  <tbody>\n",
       "    <tr>\n",
       "      <th>0</th>\n",
       "      <td>1</td>\n",
       "      <td>0</td>\n",
       "      <td>3</td>\n",
       "      <td>Braund, Mr. Owen Harris</td>\n",
       "      <td>male</td>\n",
       "      <td>22.0</td>\n",
       "      <td>1</td>\n",
       "      <td>0</td>\n",
       "      <td>A/5 21171</td>\n",
       "      <td>7.2500</td>\n",
       "      <td>NaN</td>\n",
       "      <td>S</td>\n",
       "    </tr>\n",
       "    <tr>\n",
       "      <th>1</th>\n",
       "      <td>2</td>\n",
       "      <td>1</td>\n",
       "      <td>1</td>\n",
       "      <td>Cumings, Mrs. John Bradley (Florence Briggs Th...</td>\n",
       "      <td>female</td>\n",
       "      <td>38.0</td>\n",
       "      <td>1</td>\n",
       "      <td>0</td>\n",
       "      <td>PC 17599</td>\n",
       "      <td>71.2833</td>\n",
       "      <td>C85</td>\n",
       "      <td>C</td>\n",
       "    </tr>\n",
       "    <tr>\n",
       "      <th>2</th>\n",
       "      <td>3</td>\n",
       "      <td>1</td>\n",
       "      <td>3</td>\n",
       "      <td>Heikkinen, Miss. Laina</td>\n",
       "      <td>female</td>\n",
       "      <td>26.0</td>\n",
       "      <td>0</td>\n",
       "      <td>0</td>\n",
       "      <td>STON/O2. 3101282</td>\n",
       "      <td>7.9250</td>\n",
       "      <td>NaN</td>\n",
       "      <td>S</td>\n",
       "    </tr>\n",
       "    <tr>\n",
       "      <th>3</th>\n",
       "      <td>4</td>\n",
       "      <td>1</td>\n",
       "      <td>1</td>\n",
       "      <td>Futrelle, Mrs. Jacques Heath (Lily May Peel)</td>\n",
       "      <td>female</td>\n",
       "      <td>35.0</td>\n",
       "      <td>1</td>\n",
       "      <td>0</td>\n",
       "      <td>113803</td>\n",
       "      <td>53.1000</td>\n",
       "      <td>C123</td>\n",
       "      <td>S</td>\n",
       "    </tr>\n",
       "    <tr>\n",
       "      <th>4</th>\n",
       "      <td>5</td>\n",
       "      <td>0</td>\n",
       "      <td>3</td>\n",
       "      <td>Allen, Mr. William Henry</td>\n",
       "      <td>male</td>\n",
       "      <td>35.0</td>\n",
       "      <td>0</td>\n",
       "      <td>0</td>\n",
       "      <td>373450</td>\n",
       "      <td>8.0500</td>\n",
       "      <td>NaN</td>\n",
       "      <td>S</td>\n",
       "    </tr>\n",
       "  </tbody>\n",
       "</table>\n",
       "</div>"
      ],
      "text/plain": [
       "   PassengerId  Survived  Pclass  \\\n",
       "0            1         0       3   \n",
       "1            2         1       1   \n",
       "2            3         1       3   \n",
       "3            4         1       1   \n",
       "4            5         0       3   \n",
       "\n",
       "                                                Name     Sex   Age  SibSp  \\\n",
       "0                            Braund, Mr. Owen Harris    male  22.0      1   \n",
       "1  Cumings, Mrs. John Bradley (Florence Briggs Th...  female  38.0      1   \n",
       "2                             Heikkinen, Miss. Laina  female  26.0      0   \n",
       "3       Futrelle, Mrs. Jacques Heath (Lily May Peel)  female  35.0      1   \n",
       "4                           Allen, Mr. William Henry    male  35.0      0   \n",
       "\n",
       "   Parch            Ticket     Fare Cabin Embarked  \n",
       "0      0         A/5 21171   7.2500   NaN        S  \n",
       "1      0          PC 17599  71.2833   C85        C  \n",
       "2      0  STON/O2. 3101282   7.9250   NaN        S  \n",
       "3      0            113803  53.1000  C123        S  \n",
       "4      0            373450   8.0500   NaN        S  "
      ]
     },
     "execution_count": 3,
     "metadata": {},
     "output_type": "execute_result"
    }
   ],
   "source": [
    "df = pd.read_csv('./train.csv')\n",
    "cdf = df.copy()\n",
    "df.head()"
   ]
  },
  {
   "cell_type": "code",
   "execution_count": 4,
   "metadata": {},
   "outputs": [
    {
     "name": "stdout",
     "output_type": "stream",
     "text": [
      "<class 'pandas.core.frame.DataFrame'>\n",
      "RangeIndex: 891 entries, 0 to 890\n",
      "Data columns (total 12 columns):\n",
      "PassengerId    891 non-null int64\n",
      "Survived       891 non-null int64\n",
      "Pclass         891 non-null int64\n",
      "Name           891 non-null object\n",
      "Sex            891 non-null object\n",
      "Age            714 non-null float64\n",
      "SibSp          891 non-null int64\n",
      "Parch          891 non-null int64\n",
      "Ticket         891 non-null object\n",
      "Fare           891 non-null float64\n",
      "Cabin          204 non-null object\n",
      "Embarked       889 non-null object\n",
      "dtypes: float64(2), int64(5), object(5)\n",
      "memory usage: 83.6+ KB\n"
     ]
    }
   ],
   "source": [
    "df.info()"
   ]
  },
  {
   "cell_type": "markdown",
   "metadata": {},
   "source": [
    "Ah! I see names, you think names effect your life? Anyway, we will take care of the names later. Let's continue with the analysis.\n",
    "\n",
    "Let's first take a look at the survival rates of the different `Pclass`.\n",
    "\n",
    "Note: We will be playing with the `cdf` DataFrame as I just copied it because of performing analysis."
   ]
  },
  {
   "cell_type": "code",
   "execution_count": 5,
   "metadata": {},
   "outputs": [
    {
     "data": {
      "image/png": "[encoded data removed]",
      "text/plain": [
       "<matplotlib.figure.Figure at 0x7fd06bc6ab70>"
      ]
     },
     "metadata": {},
     "output_type": "display_data"
    }
   ],
   "source": [
    "sns.countplot(y='Pclass', data=df, hue='Survived')\n",
    "plt.show()"
   ]
  },
  {
   "cell_type": "markdown",
   "metadata": {},
   "source": [
    "Gotcha! Most of the rich guys made out alive! \n",
    "\n",
    "So, we can draw a conclusion that the `Pclass` of person effects their `Survived` rate.\n",
    "\n",
    "Just to be sure, let's look at the correlation."
   ]
  },
  {
   "cell_type": "code",
   "execution_count": 6,
   "metadata": {},
   "outputs": [
    {
     "data": {
      "text/plain": [
       "-0.3384810359610147"
      ]
     },
     "execution_count": 6,
     "metadata": {},
     "output_type": "execute_result"
    }
   ],
   "source": [
    "corr_pclass_sur = df['Pclass'].corr(df['Survived'])\n",
    "corr_pclass_sur"
   ]
  },
  {
   "cell_type": "markdown",
   "metadata": {},
   "source": [
    "So, there is a negetive correlation, that means if the `Pclass` is higher `Death Rates` are lower.\n",
    "\n",
    "Congratulations `Pclass` you just qualified to be in the final dataset. :claps:"
   ]
  },
  {
   "cell_type": "markdown",
   "metadata": {},
   "source": [
    "So, who's next?\n",
    "\n",
    "Let's consider the `sex` column. \n",
    "\n",
    "Giving it a thought, should `sex` of a person effect the `Survived` rate?\n",
    "\n",
    "I don't wanna make a bad impression of myself to the readers of my notebook, So let's just do the analysis :P\n",
    "\n",
    "**Data doesn't Lie**\n",
    "\n",
    "So, let's just start with a visualization!"
   ]
  },
  {
   "cell_type": "code",
   "execution_count": 7,
   "metadata": {},
   "outputs": [
    {
     "data": {
      "image/png": "[encoded data removed]",
      "text/plain": [
       "<matplotlib.figure.Figure at 0x7fd0636eeda0>"
      ]
     },
     "metadata": {},
     "output_type": "display_data"
    }
   ],
   "source": [
    "sns.countplot(y='Sex', data=df, hue='Survived')\n",
    "plt.show()"
   ]
  },
  {
   "cell_type": "markdown",
   "metadata": {},
   "source": [
    "Mmm! I see countless stories like Jack and Rose.\n",
    "\n",
    "See girls! How selfless are us boys! Just make a note of that :P\n",
    "\n",
    "Let's just look at the correlation to get an idea of 'How much selfless we really are' :P"
   ]
  },
  {
   "cell_type": "code",
   "execution_count": 8,
   "metadata": {},
   "outputs": [
    {
     "data": {
      "text/plain": [
       "0.543351380657755"
      ]
     },
     "execution_count": 8,
     "metadata": {},
     "output_type": "execute_result"
    }
   ],
   "source": [
    "corr_sex_sur = df['Survived'].corr(df['Sex'].map({'male':1, 'female':2}))\n",
    "corr_sex_sur"
   ]
  },
  {
   "cell_type": "markdown",
   "metadata": {},
   "source": [
    "OMG! That is too high!\n",
    "\n",
    "I have got the numbers now girls!\n",
    "\n",
    "I am going to take a snapshot of this and show everyone how selfless we really are :P\n",
    "\n",
    "By the way, Congratulations `Sex` you just qualified to be in the final dataset!"
   ]
  },
  {
   "cell_type": "markdown",
   "metadata": {},
   "source": [
    "Who's next in line?\n",
    "\n",
    "`Age`?\n",
    "\n",
    "Common' fella, I am very sure that you are a contributing factor!\n",
    "\n",
    "Let's visualize the age!\n",
    "\n",
    "One thing to notice is that we have ages as fractions, let's just round up the fractions!\n",
    "\n",
    "P.S. I wanna round them down! But `Age` o `Age` I ducking hate you!"
   ]
  },
  {
   "cell_type": "code",
   "execution_count": 48,
   "metadata": {},
   "outputs": [],
   "source": [
    "cdf['Age'] = df['Age'].map(lambda x : int(x) if not math.isnan(x) else float('nan'))"
   ]
  },
  {
   "cell_type": "markdown",
   "metadata": {},
   "source": [
    "Question is what to do with NaNs ?\n",
    "\n",
    "Well we cound get rid of those, let's take a look of how much information we would be losing if we did that"
   ]
  },
  {
   "cell_type": "code",
   "execution_count": 50,
   "metadata": {},
   "outputs": [
    {
     "data": {
      "text/plain": [
       "19.865319865319865"
      ]
     },
     "execution_count": 50,
     "metadata": {},
     "output_type": "execute_result"
    }
   ],
   "source": [
    "nans = sum(cdf['Age'].map(lambda x : 1 if math.isnan(x) else 0))\n",
    "total = len(cdf)\n",
    "percent_loss = (nans/total) * 100\n",
    "percent_loss"
   ]
  },
  {
   "cell_type": "markdown",
   "metadata": {},
   "source": [
    "We are losing ~20% data. The dataset is small we cannot afford to lose that amount of data.\n",
    "\n",
    "Let's just take the mean and replace the `NaN`s"
   ]
  },
  {
   "cell_type": "code",
   "execution_count": 11,
   "metadata": {},
   "outputs": [
    {
     "data": {
      "text/plain": [
       "0"
      ]
     },
     "execution_count": 11,
     "metadata": {},
     "output_type": "execute_result"
    }
   ],
   "source": [
    "median_age = cdf['Age'].median()\n",
    "cdf['Age'] = cdf['Age'].fillna(median_age)\n",
    "nans = sum(cdf['Age'].map(lambda x : 1 if math.isnan(x) else 0))\n",
    "nans"
   ]
  },
  {
   "cell_type": "markdown",
   "metadata": {},
   "source": [
    "Okay! So, we replaced all the `NaN`s.\n",
    "\n",
    "Lets now visualize how `Age` effects `Survived` rate."
   ]
  },
  {
   "cell_type": "code",
   "execution_count": 12,
   "metadata": {},
   "outputs": [
    {
     "data": {
      "image/png": "[encoded data removed]",
      "text/plain": [
       "<matplotlib.figure.Figure at 0x7fd0625f7470>"
      ]
     },
     "metadata": {},
     "output_type": "display_data"
    }
   ],
   "source": [
    "sns.distplot(cdf['Age'], bins=15)\n",
    "plt.show()"
   ]
  },
  {
   "cell_type": "markdown",
   "metadata": {},
   "source": [
    "Mmmmm, many of the passengers were around `18`-`45`"
   ]
  },
  {
   "cell_type": "code",
   "execution_count": 13,
   "metadata": {},
   "outputs": [
    {
     "data": {
      "image/png": "[encoded data removed]",
      "text/plain": [
       "<matplotlib.figure.Figure at 0x7fd0625d4198>"
      ]
     },
     "metadata": {},
     "output_type": "display_data"
    }
   ],
   "source": [
    "bins = np.linspace(0, 100, 10)\n",
    "cdf['digitized'] = np.digitize(cdf['Age'], bins)\n",
    "sns.countplot(y='digitized', hue='Survived', data=cdf)\n",
    "plt.ylabel('Age Groups')\n",
    "plt.show()"
   ]
  },
  {
   "cell_type": "markdown",
   "metadata": {},
   "source": [
    "So, what I did is I divided the age groups into `10` bins and observed the `Survived` count for each bin.\n",
    "\n",
    "Looking at the graph, I see non-survival rates higher in each group except the infant group. Man, This is not good!\n",
    "\n",
    "Well, atleast the the survival rates in the infant group is higher! \n",
    "\n",
    "Well, we all get selfless when it comes to kids!\n",
    "\n",
    "Okay, let's just get how much the two are correlated."
   ]
  },
  {
   "cell_type": "code",
   "execution_count": 29,
   "metadata": {},
   "outputs": [
    {
     "name": "stdout",
     "output_type": "stream",
     "text": [
      "-0.06490893816693674\n",
      "-0.04593461529917282\n"
     ]
    }
   ],
   "source": [
    "corr_age_sur = cdf['Age'].corr(cdf['Survived'])\n",
    "corr_dig_sur = cdf['digitized'].corr(cdf['Survived'])\n",
    "print (corr_age_sur)\n",
    "print (corr_dig_sur)"
   ]
  },
  {
   "cell_type": "markdown",
   "metadata": {},
   "source": [
    "The correlation doesn't seem to be very high.\n",
    "\n",
    "Okay, I am not really sure about keeping this feature or not.\n",
    "\n",
    "So, we will test it out later while building the model :)"
   ]
  },
  {
   "cell_type": "markdown",
   "metadata": {},
   "source": [
    "Next, lets look at the `SibSp` column. This column represents the # of siblings / spouses aboard the Titanic for a person.\n",
    "\n",
    "So, lets just visualize the Survival rate against the # of Siblings.\n",
    "\n",
    "First, lets start with how many siblings one had on average."
   ]
  },
  {
   "cell_type": "code",
   "execution_count": 24,
   "metadata": {},
   "outputs": [
    {
     "data": {
      "image/png": "[encoded data removed]",
      "text/plain": [
       "<matplotlib.figure.Figure at 0x7fd060465da0>"
      ]
     },
     "metadata": {},
     "output_type": "display_data"
    }
   ],
   "source": [
    "sns.countplot(x='SibSp', data=cdf)\n",
    "plt.xlabel('# of Siblings / Spouses')\n",
    "plt.show()"
   ]
  },
  {
   "cell_type": "code",
   "execution_count": 28,
   "metadata": {},
   "outputs": [
    {
     "data": {
      "image/png": "[encoded data removed]",
      "text/plain": [
       "<matplotlib.figure.Figure at 0x7fd050ca5438>"
      ]
     },
     "metadata": {},
     "output_type": "display_data"
    }
   ],
   "source": [
    "sns.countplot(y='SibSp', hue='Survived', data=cdf)\n",
    "plt.show()"
   ]
  },
  {
   "cell_type": "markdown",
   "metadata": {},
   "source": [
    "Let's just see the correlation between the two."
   ]
  },
  {
   "cell_type": "code",
   "execution_count": 32,
   "metadata": {},
   "outputs": [
    {
     "data": {
      "text/plain": [
       "-0.03532249888573558"
      ]
     },
     "execution_count": 32,
     "metadata": {},
     "output_type": "execute_result"
    }
   ],
   "source": [
    "corr_sibsp_sur = cdf['SibSp'].corr(cdf['Survived'])\n",
    "corr_sibsp_sur"
   ]
  },
  {
   "cell_type": "markdown",
   "metadata": {},
   "source": [
    "There doesn't seem to be much of a correlation. So, we most probably will drop `SibSp` in the final dataset.\n",
    "\n",
    "Next, let's look at the `Parch` Column which is # of parents / children aboard the Titanic. Okay!\n",
    "\n",
    "Let's start with a visualization of the number of parents/children each had onboard."
   ]
  },
  {
   "cell_type": "code",
   "execution_count": 34,
   "metadata": {},
   "outputs": [
    {
     "data": {
      "image/png": "[encoded data removed]",
      "text/plain": [
       "<matplotlib.figure.Figure at 0x7fd0508f64e0>"
      ]
     },
     "metadata": {},
     "output_type": "display_data"
    }
   ],
   "source": [
    "sns.countplot(x=cdf['Parch'], data=cdf)\n",
    "plt.xlabel('# of Parent / Children')\n",
    "plt.show()"
   ]
  },
  {
   "cell_type": "markdown",
   "metadata": {},
   "source": [
    "Cool! Let's look at the Survival rates for each parch."
   ]
  },
  {
   "cell_type": "code",
   "execution_count": 36,
   "metadata": {},
   "outputs": [
    {
     "data": {
      "image/png": "[encoded data removed]",
      "text/plain": [
       "<matplotlib.figure.Figure at 0x7fd09c934710>"
      ]
     },
     "metadata": {},
     "output_type": "display_data"
    }
   ],
   "source": [
    "sns.countplot(y=cdf['Parch'], hue='Survived', data=cdf)\n",
    "plt.ylabel('# of Parents / Children')\n",
    "plt.show()"
   ]
  },
  {
   "cell_type": "markdown",
   "metadata": {},
   "source": [
    "Mmmmm, not much correlation there as you can see probably!\n",
    "\n",
    "Let's just look at the correlation between the two."
   ]
  },
  {
   "cell_type": "code",
   "execution_count": 37,
   "metadata": {},
   "outputs": [
    {
     "data": {
      "text/plain": [
       "0.08162940708348365"
      ]
     },
     "execution_count": 37,
     "metadata": {},
     "output_type": "execute_result"
    }
   ],
   "source": [
    "corr_parch_sur = cdf['Parch'].corr(cdf['Survived'])\n",
    "corr_parch_sur"
   ]
  },
  {
   "cell_type": "markdown",
   "metadata": {},
   "source": [
    "Yeah! as I said not much correlation there. So, we will drop this column most probably in the final dataset.\n",
    "\n",
    "Next, let's look at the .... `Ticket` ??\n",
    "\n",
    "So, `Ticket`, specifically speaking the 'Name of the Tickets', that won't effect ones life, we can drop that without much thought :)\n",
    "\n",
    "Next up iss ..... the `Fare` for the `Ticket`.\n",
    "\n",
    "Hmmmm, we saw that 1st class people has more survivals so does higher fare means lower survival rate ?\n",
    "\n",
    "Let's group the `Fare` into groups and visualize it!"
   ]
  },
  {
   "cell_type": "code",
   "execution_count": 57,
   "metadata": {},
   "outputs": [
    {
     "data": {
      "image/png": "[encoded data removed]",
      "text/plain": [
       "<matplotlib.figure.Figure at 0x7fd04eb530f0>"
      ]
     },
     "metadata": {},
     "output_type": "display_data"
    }
   ],
   "source": [
    "sns.distplot(cdf['Fare'], bins=5, kde=False)\n",
    "plt.show()"
   ]
  },
  {
   "cell_type": "markdown",
   "metadata": {},
   "source": [
    "So, most of the tickets were priced atmost `100` and a few in the range of `200`-`500`.\n",
    "\n",
    "OKay, let's see the survival rates in each group. It wont say much as the data in the range `200-500` is too less."
   ]
  },
  {
   "cell_type": "code",
   "execution_count": 58,
   "metadata": {},
   "outputs": [
    {
     "data": {
      "image/png": "[encoded data removed]",
      "text/plain": [
       "<matplotlib.figure.Figure at 0x7fd04eb5d9e8>"
      ]
     },
     "metadata": {},
     "output_type": "display_data"
    }
   ],
   "source": [
    "bins = np.linspace(0, 500, 5)\n",
    "cdf['fare_bins'] = np.digitize(cdf['Fare'], bins)\n",
    "sns.countplot(y='fare_bins', hue='Survived', data=cdf)\n",
    "plt.ylabel('Fare Groups')\n",
    "plt.show()"
   ]
  },
  {
   "cell_type": "markdown",
   "metadata": {},
   "source": [
    "So, as I said we cannot infer much from this as most the people belongs to the first group.\n",
    "\n",
    "Let's look at the correlation."
   ]
  },
  {
   "cell_type": "code",
   "execution_count": 60,
   "metadata": {},
   "outputs": [
    {
     "data": {
      "text/plain": [
       "0.1438544108288689"
      ]
     },
     "execution_count": 60,
     "metadata": {},
     "output_type": "execute_result"
    }
   ],
   "source": [
    "corr_fare_sur = cdf['fare_bins'].corr(cdf['Survived'])\n",
    "corr_fare_sur"
   ]
  },
  {
   "cell_type": "markdown",
   "metadata": {},
   "source": [
    "There seems to be a positive correlation. So, let's just keep `Fare`.\n",
    "\n",
    "Next? `Cabin`\n",
    "\n",
    "..# TODO [Analyze `cabin`]"
   ]
  },
  {
   "cell_type": "markdown",
   "metadata": {},
   "source": [
    "Okay! Who's next? \n",
    "\n",
    "`Embarked`\n",
    "\n",
    "Let's just visualize the survival rates for people from each port of embarkation.\n",
    "\n",
    "Although we should understand that survival rate of people doesn't depend on the Port of Embarkation of a person."
   ]
  },
  {
   "cell_type": "code",
   "execution_count": 63,
   "metadata": {},
   "outputs": [
    {
     "data": {
      "image/png": "[encoded data removed]",
      "text/plain": [
       "<matplotlib.figure.Figure at 0x7fd04e8b2eb8>"
      ]
     },
     "metadata": {},
     "output_type": "display_data"
    }
   ],
   "source": [
    "sns.countplot(y=cdf['Embarked'], hue='Survived', data=cdf)\n",
    "plt.show()"
   ]
  },
  {
   "cell_type": "markdown",
   "metadata": {},
   "source": [
    "So, as said, survival rates are variable in this and we cannot infer whether a person will die or live based on where the person embarked from.\n",
    "\n",
    "Okay!\n",
    "\n",
    "So, here's what we are going to do with the columns:\n",
    "\n",
    "PassengerId -> Drop [As it the index we are gonna drop that]\n",
    "\n",
    "Survived \t-> KEEP (target value)\n",
    "\n",
    "Pclass \t    -> keep\n",
    "\n",
    "Name \t    -> Drop\n",
    "\n",
    "Sex \t    -> Keep\n",
    "\n",
    "Age \t    -> Keep /Drop\n",
    "\n",
    "SibSp \t    -> Drop\n",
    "\n",
    "Parch \t    -> Drop\n",
    "\n",
    "Ticket \t    -> Drop\n",
    "\n",
    "Fare \t    -> Keep /Drop\n",
    "\n",
    "Cabin \t    -> Drop\n",
    "\n",
    "Embarked    -> Drop"
   ]
  },
  {
   "cell_type": "markdown",
   "metadata": {},
   "source": [
    "# Step 2: Preprocessing and Building the final Dataset\n",
    "\n",
    "So, we got the columns that we would keep, so let's keep those and drop the rest!\n",
    "\n",
    "Also, in the process let's seperate out the target value `Survivied`"
   ]
  },
  {
   "cell_type": "code",
   "execution_count": 70,
   "metadata": {},
   "outputs": [],
   "source": [
    "X = df[['Pclass', 'Sex', 'Age', 'Fare']]\n",
    "y = df['Survived']"
   ]
  },
  {
   "cell_type": "markdown",
   "metadata": {},
   "source": [
    "So, we now have the `X` and the `y` and let's now process the data whereever required."
   ]
  },
  {
   "cell_type": "code",
   "execution_count": null,
   "metadata": {},
   "outputs": [],
   "source": []
  }
 ],
 "metadata": {
  "kernelspec": {
   "display_name": "Python 3",
   "language": "python",
   "name": "python3"
  },
  "language_info": {
   "codemirror_mode": {
    "name": "ipython",
    "version": 3
   },
   "file_extension": ".py",
   "mimetype": "text/x-python",
   "name": "python",
   "nbconvert_exporter": "python",
   "pygments_lexer": "ipython3",
   "version": "3.6.4"
  }
 },
 "nbformat": 4,
 "nbformat_minor": 2
}
